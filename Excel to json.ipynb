{
 "cells": [
  {
   "cell_type": "code",
   "execution_count": 1,
   "metadata": {},
   "outputs": [],
   "source": [
    "import pandas as pd\n",
    "import json\n"
   ]
  },
  {
   "cell_type": "code",
   "execution_count": 2,
   "metadata": {},
   "outputs": [],
   "source": [
    "path=\"Z:/ESTUDIS/APP/Estudi-oferta/\"\n",
    "\n",
    "list_df = []\n",
    "\n",
    "list_df.append(pd.read_excel(path + 'BBDD 2022_2021 03.02.23.xlsx', sheet_name='Promocions 2022_2021'))\n",
    "list_df.append(pd.read_excel(path + 'BBDD 2022_2021 03.02.23.xlsx', sheet_name='Habitatges 2022_2021'))\n",
    "\n",
    "list_df.append(pd.read_excel(path + 'P3007 BBDD desembre APCE.xlsx', sheet_name='Promocions 2023'))\n",
    "list_df.append(pd.read_excel(path + 'P3007 BBDD desembre APCE.xlsx', sheet_name='Habitatges 2023'))\n",
    "\n",
    "# list_df.append(pd.read_excel(path + 'BBDD juny 2024 APCE.xlsx', sheet_name='Promocions 2024'))\n",
    "# list_df.append(pd.read_excel(path + 'BBDD juny 2024 APCE.xlsx', sheet_name='Habitatges 2024'))\n",
    "\n",
    "list_df.append(pd.read_excel(path + 'BBDD desembre 2024 APCE.xlsx', sheet_name='Promocions 2024'))\n",
    "list_df.append(pd.read_excel(path + 'BBDD desembre 2024 APCE.xlsx', sheet_name='Habitatges 2024'))\n",
    "\n",
    "list_df.append(pd.read_excel(path + 'BBDD 2025 Juny APCE.xlsx', sheet_name='Promocions 2025'))\n",
    "list_df.append(pd.read_excel(path + 'BBDD 2025 Juny APCE.xlsx', sheet_name='Habitatges 2025'))\n",
    "\n",
    "list_df.append(pd.read_excel(path + \"Resum 2018 - 2019.xlsx\", sheet_name=\"Municipis 2018-2019\"))\n",
    "list_df.append(pd.read_excel(path + \"Resum 2020 - 2021.xlsx\", sheet_name=\"Municipis\"))\n",
    "list_df.append(pd.read_excel(path + \"Resum 2022.xlsx\", sheet_name=\"Municipis\"))\n",
    "list_df.append(pd.read_excel(path + \"Resum 2023.xlsx\", sheet_name=\"Municipis\"))\n",
    "list_df.append(pd.read_excel(path + \"Resum municipis 2024.xlsx\", sheet_name=\"Municipis\"))\n",
    "list_df.append(pd.read_excel(path + \"Resum municipis 1S2025.xlsx\", sheet_name=\"Municipis\"))\n",
    "\n",
    "\n",
    "list_df.append(pd.read_excel(path + \"Maestro estudi_oferta_2024.xlsx\", sheet_name=\"Maestro\"))\n",
    "list_df.append(pd.read_excel(path + \"Resum 2018 - 2019.xlsx\", sheet_name=\"BCN+districtes+barris\"))\n",
    "list_df.append(pd.read_excel(path + \"Resum 2020 - 2021.xlsx\", sheet_name=\"BCN+districtes+barris\"))\n",
    "list_df.append(pd.read_excel(path + \"Resum 2022.xlsx\", sheet_name=\"BCN+districtes+barris\"))\n",
    "list_df.append(pd.read_excel(path + \"Resum 2023.xlsx\", sheet_name=\"BCN districte+barris\"))\n",
    "list_df.append(pd.read_excel(path + \"Resum districtes 2024.xlsx\", sheet_name=\"BCN districte+barris\"))\n",
    "list_df.append(pd.read_excel(path + \"Resum dis 1S2025.xlsx\", sheet_name=\"BCN districte+barris\"))\n",
    "\n",
    "list_df.append(pd.read_excel(path + \"Estudi_oferta_taules 2022.xlsx\", sheet_name=\"table117\", header=1).iloc[1:,])\n",
    "list_df.append(pd.read_excel(path + \"Estudi_oferta_taules 2022.xlsx\", sheet_name=\"table121\", header=1).iloc[1:,])\n",
    "list_df.append(pd.read_excel(path + \"Estudi_oferta_taules 2022.xlsx\", sheet_name=\"table125\", header=1).iloc[1:,])\n",
    "\n",
    "list_df.append(pd.read_excel(path + \"Estudi_oferta_taules 2023.xlsx\", sheet_name=\"table117\", header=1).iloc[1:,])\n",
    "list_df.append(pd.read_excel(path + \"Estudi_oferta_taules 2023.xlsx\", sheet_name=\"table121\", header=1).iloc[1:,])\n",
    "list_df.append(pd.read_excel(path + \"Estudi_oferta_taules 2023.xlsx\", sheet_name=\"table125\", header=1).iloc[1:,])\n",
    "\n",
    "list_df.append(pd.read_excel(path + \"Estudi_oferta_taules_2024.xlsx\", sheet_name=\"table117\", header=1).iloc[1:,])\n",
    "list_df.append(pd.read_excel(path + \"Estudi_oferta_taules_2024.xlsx\", sheet_name=\"table121\", header=1).iloc[1:,])\n",
    "list_df.append(pd.read_excel(path + \"Estudi_oferta_taules_2024.xlsx\", sheet_name=\"table125\", header=1).iloc[1:,])\n",
    "\n",
    "list_df.append(pd.read_excel(path + \"Estudi_oferta_taules_1S2025.xlsx\", sheet_name=\"table117\", header=1).iloc[1:,])\n",
    "list_df.append(pd.read_excel(path + \"Estudi_oferta_taules_1S2025.xlsx\", sheet_name=\"table121\", header=1).iloc[1:,])\n",
    "list_df.append(pd.read_excel(path + \"Estudi_oferta_taules_1S2025.xlsx\", sheet_name=\"table125\", header=1).iloc[1:,])\n",
    "\n"
   ]
  },
  {
   "cell_type": "code",
   "execution_count": 3,
   "metadata": {},
   "outputs": [],
   "source": [
    "\n",
    "# for i in [0,1,2,3,4,5,12]:\n",
    "#     list_df[i][\"Fecha\"] = list_df[i]['Fecha'].dt.strftime('%Y-%m-%d %H:%M:%S')\n",
    "\n",
    "\n",
    "with open(path + 'DT_oferta.json', 'w') as outfile:\n",
    "    outfile.write(json.dumps([df.to_dict() for df in list_df]))\n",
    "with open(path + 'DT_oferta.json', 'r') as outfile:\n",
    "    list_of_df = [pd.DataFrame.from_dict(item) for item in json.loads(outfile.read())]\n",
    "\n"
   ]
  }
 ],
 "metadata": {
  "kernelspec": {
   "display_name": "Python 3",
   "language": "python",
   "name": "python3"
  },
  "language_info": {
   "codemirror_mode": {
    "name": "ipython",
    "version": 3
   },
   "file_extension": ".py",
   "mimetype": "text/x-python",
   "name": "python",
   "nbconvert_exporter": "python",
   "pygments_lexer": "ipython3",
   "version": "3.12.5"
  }
 },
 "nbformat": 4,
 "nbformat_minor": 2
}
